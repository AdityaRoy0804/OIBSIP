{
 "cells": [
  {
   "cell_type": "code",
   "execution_count": 1,
   "id": "270bcf98-b82b-49e7-b70a-e6bde2478fe2",
   "metadata": {},
   "outputs": [
    {
     "data": {
      "text/html": [
       "'C:/Users/DJ COMPUTERS/OneDrive/Desktop/R prog'"
      ],
      "text/latex": [
       "'C:/Users/DJ COMPUTERS/OneDrive/Desktop/R prog'"
      ],
      "text/markdown": [
       "'C:/Users/DJ COMPUTERS/OneDrive/Desktop/R prog'"
      ],
      "text/plain": [
       "[1] \"C:/Users/DJ COMPUTERS/OneDrive/Desktop/R prog\""
      ]
     },
     "metadata": {},
     "output_type": "display_data"
    }
   ],
   "source": [
    "\"C:/Users/DJ COMPUTERS/OneDrive/Desktop/R prog\"\n",
    "### Sales Analysis and Prediction ###\n",
    "### ADITYA KUMAR ROY ###\n"
   ]
  },
  {
   "cell_type": "code",
   "execution_count": 3,
   "id": "23c6b504-8257-4a27-a457-692e71c6fd13",
   "metadata": {},
   "outputs": [],
   "source": [
    "## LOADING LIBRARY PACKAGES \n",
    "library(ggplot2)\n",
    "library(lubridate)\n",
    "library(moments)\n",
    "library(car)\n",
    "library(lmtest)\n",
    "library(sandwich)\n",
    "library(graphics)\n",
    "library(caret)\n",
    "library(Metrics)\n",
    "library(patchwork)\n",
    "library(gridExtra)\n",
    "library(grid)\n",
    "library(randomForest)"
   ]
  },
  {
   "cell_type": "code",
   "execution_count": 4,
   "id": "1185ae83-e939-49d0-a18b-5e7a53658e1c",
   "metadata": {},
   "outputs": [
    {
     "data": {
      "text/html": [
       "<table class=\"dataframe\">\n",
       "<caption>A data.frame: 6 × 5</caption>\n",
       "<thead>\n",
       "\t<tr><th></th><th scope=col>X</th><th scope=col>TV</th><th scope=col>Radio</th><th scope=col>Newspaper</th><th scope=col>Sales</th></tr>\n",
       "\t<tr><th></th><th scope=col>&lt;int&gt;</th><th scope=col>&lt;dbl&gt;</th><th scope=col>&lt;dbl&gt;</th><th scope=col>&lt;dbl&gt;</th><th scope=col>&lt;dbl&gt;</th></tr>\n",
       "</thead>\n",
       "<tbody>\n",
       "\t<tr><th scope=row>1</th><td>1</td><td>230.1</td><td>37.8</td><td>69.2</td><td>22.1</td></tr>\n",
       "\t<tr><th scope=row>2</th><td>2</td><td> 44.5</td><td>39.3</td><td>45.1</td><td>10.4</td></tr>\n",
       "\t<tr><th scope=row>3</th><td>3</td><td> 17.2</td><td>45.9</td><td>69.3</td><td> 9.3</td></tr>\n",
       "\t<tr><th scope=row>4</th><td>4</td><td>151.5</td><td>41.3</td><td>58.5</td><td>18.5</td></tr>\n",
       "\t<tr><th scope=row>5</th><td>5</td><td>180.8</td><td>10.8</td><td>58.4</td><td>12.9</td></tr>\n",
       "\t<tr><th scope=row>6</th><td>6</td><td>  8.7</td><td>48.9</td><td>75.0</td><td> 7.2</td></tr>\n",
       "</tbody>\n",
       "</table>\n"
      ],
      "text/latex": [
       "A data.frame: 6 × 5\n",
       "\\begin{tabular}{r|lllll}\n",
       "  & X & TV & Radio & Newspaper & Sales\\\\\n",
       "  & <int> & <dbl> & <dbl> & <dbl> & <dbl>\\\\\n",
       "\\hline\n",
       "\t1 & 1 & 230.1 & 37.8 & 69.2 & 22.1\\\\\n",
       "\t2 & 2 &  44.5 & 39.3 & 45.1 & 10.4\\\\\n",
       "\t3 & 3 &  17.2 & 45.9 & 69.3 &  9.3\\\\\n",
       "\t4 & 4 & 151.5 & 41.3 & 58.5 & 18.5\\\\\n",
       "\t5 & 5 & 180.8 & 10.8 & 58.4 & 12.9\\\\\n",
       "\t6 & 6 &   8.7 & 48.9 & 75.0 &  7.2\\\\\n",
       "\\end{tabular}\n"
      ],
      "text/markdown": [
       "\n",
       "A data.frame: 6 × 5\n",
       "\n",
       "| <!--/--> | X &lt;int&gt; | TV &lt;dbl&gt; | Radio &lt;dbl&gt; | Newspaper &lt;dbl&gt; | Sales &lt;dbl&gt; |\n",
       "|---|---|---|---|---|---|\n",
       "| 1 | 1 | 230.1 | 37.8 | 69.2 | 22.1 |\n",
       "| 2 | 2 |  44.5 | 39.3 | 45.1 | 10.4 |\n",
       "| 3 | 3 |  17.2 | 45.9 | 69.3 |  9.3 |\n",
       "| 4 | 4 | 151.5 | 41.3 | 58.5 | 18.5 |\n",
       "| 5 | 5 | 180.8 | 10.8 | 58.4 | 12.9 |\n",
       "| 6 | 6 |   8.7 | 48.9 | 75.0 |  7.2 |\n",
       "\n"
      ],
      "text/plain": [
       "  X TV    Radio Newspaper Sales\n",
       "1 1 230.1 37.8  69.2      22.1 \n",
       "2 2  44.5 39.3  45.1      10.4 \n",
       "3 3  17.2 45.9  69.3       9.3 \n",
       "4 4 151.5 41.3  58.5      18.5 \n",
       "5 5 180.8 10.8  58.4      12.9 \n",
       "6 6   8.7 48.9  75.0       7.2 "
      ]
     },
     "metadata": {},
     "output_type": "display_data"
    },
    {
     "data": {
      "text/html": [
       "<table class=\"dataframe\">\n",
       "<caption>A data.frame: 6 × 5</caption>\n",
       "<thead>\n",
       "\t<tr><th></th><th scope=col>X</th><th scope=col>TV</th><th scope=col>Radio</th><th scope=col>Newspaper</th><th scope=col>Sales</th></tr>\n",
       "\t<tr><th></th><th scope=col>&lt;int&gt;</th><th scope=col>&lt;dbl&gt;</th><th scope=col>&lt;dbl&gt;</th><th scope=col>&lt;dbl&gt;</th><th scope=col>&lt;dbl&gt;</th></tr>\n",
       "</thead>\n",
       "<tbody>\n",
       "\t<tr><th scope=row>195</th><td>195</td><td>149.7</td><td>35.6</td><td> 6.0</td><td>17.3</td></tr>\n",
       "\t<tr><th scope=row>196</th><td>196</td><td> 38.2</td><td> 3.7</td><td>13.8</td><td> 7.6</td></tr>\n",
       "\t<tr><th scope=row>197</th><td>197</td><td> 94.2</td><td> 4.9</td><td> 8.1</td><td> 9.7</td></tr>\n",
       "\t<tr><th scope=row>198</th><td>198</td><td>177.0</td><td> 9.3</td><td> 6.4</td><td>12.8</td></tr>\n",
       "\t<tr><th scope=row>199</th><td>199</td><td>283.6</td><td>42.0</td><td>66.2</td><td>25.5</td></tr>\n",
       "\t<tr><th scope=row>200</th><td>200</td><td>232.1</td><td> 8.6</td><td> 8.7</td><td>13.4</td></tr>\n",
       "</tbody>\n",
       "</table>\n"
      ],
      "text/latex": [
       "A data.frame: 6 × 5\n",
       "\\begin{tabular}{r|lllll}\n",
       "  & X & TV & Radio & Newspaper & Sales\\\\\n",
       "  & <int> & <dbl> & <dbl> & <dbl> & <dbl>\\\\\n",
       "\\hline\n",
       "\t195 & 195 & 149.7 & 35.6 &  6.0 & 17.3\\\\\n",
       "\t196 & 196 &  38.2 &  3.7 & 13.8 &  7.6\\\\\n",
       "\t197 & 197 &  94.2 &  4.9 &  8.1 &  9.7\\\\\n",
       "\t198 & 198 & 177.0 &  9.3 &  6.4 & 12.8\\\\\n",
       "\t199 & 199 & 283.6 & 42.0 & 66.2 & 25.5\\\\\n",
       "\t200 & 200 & 232.1 &  8.6 &  8.7 & 13.4\\\\\n",
       "\\end{tabular}\n"
      ],
      "text/markdown": [
       "\n",
       "A data.frame: 6 × 5\n",
       "\n",
       "| <!--/--> | X &lt;int&gt; | TV &lt;dbl&gt; | Radio &lt;dbl&gt; | Newspaper &lt;dbl&gt; | Sales &lt;dbl&gt; |\n",
       "|---|---|---|---|---|---|\n",
       "| 195 | 195 | 149.7 | 35.6 |  6.0 | 17.3 |\n",
       "| 196 | 196 |  38.2 |  3.7 | 13.8 |  7.6 |\n",
       "| 197 | 197 |  94.2 |  4.9 |  8.1 |  9.7 |\n",
       "| 198 | 198 | 177.0 |  9.3 |  6.4 | 12.8 |\n",
       "| 199 | 199 | 283.6 | 42.0 | 66.2 | 25.5 |\n",
       "| 200 | 200 | 232.1 |  8.6 |  8.7 | 13.4 |\n",
       "\n"
      ],
      "text/plain": [
       "    X   TV    Radio Newspaper Sales\n",
       "195 195 149.7 35.6   6.0      17.3 \n",
       "196 196  38.2  3.7  13.8       7.6 \n",
       "197 197  94.2  4.9   8.1       9.7 \n",
       "198 198 177.0  9.3   6.4      12.8 \n",
       "199 199 283.6 42.0  66.2      25.5 \n",
       "200 200 232.1  8.6   8.7      13.4 "
      ]
     },
     "metadata": {},
     "output_type": "display_data"
    },
    {
     "data": {
      "text/plain": [
       "       X                TV             Radio          Newspaper     \n",
       " Min.   :  1.00   Min.   :  0.70   Min.   : 0.000   Min.   :  0.30  \n",
       " 1st Qu.: 50.75   1st Qu.: 74.38   1st Qu.: 9.975   1st Qu.: 12.75  \n",
       " Median :100.50   Median :149.75   Median :22.900   Median : 25.75  \n",
       " Mean   :100.50   Mean   :147.04   Mean   :23.264   Mean   : 30.55  \n",
       " 3rd Qu.:150.25   3rd Qu.:218.82   3rd Qu.:36.525   3rd Qu.: 45.10  \n",
       " Max.   :200.00   Max.   :296.40   Max.   :49.600   Max.   :114.00  \n",
       "     Sales      \n",
       " Min.   : 1.60  \n",
       " 1st Qu.:10.38  \n",
       " Median :12.90  \n",
       " Mean   :14.02  \n",
       " 3rd Qu.:17.40  \n",
       " Max.   :27.00  "
      ]
     },
     "metadata": {},
     "output_type": "display_data"
    },
    {
     "name": "stdout",
     "output_type": "stream",
     "text": [
      "'data.frame':\t200 obs. of  5 variables:\n",
      " $ X        : int  1 2 3 4 5 6 7 8 9 10 ...\n",
      " $ TV       : num  230.1 44.5 17.2 151.5 180.8 ...\n",
      " $ Radio    : num  37.8 39.3 45.9 41.3 10.8 48.9 32.8 19.6 2.1 2.6 ...\n",
      " $ Newspaper: num  69.2 45.1 69.3 58.5 58.4 75 23.5 11.6 1 21.2 ...\n",
      " $ Sales    : num  22.1 10.4 9.3 18.5 12.9 7.2 11.8 13.2 4.8 10.6 ...\n"
     ]
    }
   ],
   "source": [
    "## READING THE DATA & DATA PREPROCESSING\n",
    "Sales <- read.csv(\"C:/Users/DJ COMPUTERS/OneDrive/Desktop/R prog/Advertising.csv\")\n",
    "head(Sales)\n",
    "tail(Sales)\n",
    "summary(Sales)\n",
    "str(Sales)"
   ]
  },
  {
   "cell_type": "code",
   "execution_count": 5,
   "id": "11e01edf-03ea-4e09-81f8-ea37efbf073e",
   "metadata": {},
   "outputs": [
    {
     "data": {
      "image/png": "[encoded data removed]",
      "text/plain": [
       "Plot with title \"Visualizing Various Parameters\""
      ]
     },
     "metadata": {
      "image/png": {
       "height": 600,
       "width": 1080
      }
     },
     "output_type": "display_data"
    }
   ],
   "source": [
    "## EXPLORATORY DATA ANALYSIS\n",
    "# Set the size of the plotting window\n",
    "par(mfrow = c(2,3))\n",
    "library(repr)\n",
    "options(repr.plot.width = 18, repr.plot.height = 10)\n",
    "\n",
    "#visualizing different parameters for analysis.\n",
    "plot(x= Sales$TV,y= Sales$Sales,main = \"Sales vs TV\",\n",
    "     xlab = \"TV\",ylab = \"Sales\",type = \"p\",col = \"blue\",pch = 20)\n",
    "\n",
    "plot(x= Sales$Radio,y= Sales$Sales,main = \"Sales vs Radio\",\n",
    "     xlab = \"Radio\",ylab = \"Sales\",type = \"p\",col = \"red\",pch = 20)\n",
    "\n",
    "plot(x= Sales$Newspaper,y= Sales$Sales,main = \"Sales vs Newspaper\",\n",
    "     xlab = \"Newspaper\",ylab = \"Sales\",type = \"p\",col = \"brown\",pch = 20)\n",
    "\n",
    "barplot( Sales$TV,main = \"No. of TV Sales\",\n",
    "     xlab = \"TV\",ylab = \"Frequency\",col = \"blue\")\n",
    "\n",
    "barplot( Sales$Radio,main = \"No. of Radio Sales\",\n",
    "         xlab = \"Radio\",ylab = \"Frequency\",col = \"red\")\n",
    "\n",
    "barplot( Sales$Newspaper,main = \"No. of Newspaper Sales\",\n",
    "         xlab = \"Newspaper\",ylab = \"Frequency\",col = \"green\")\n",
    "\n",
    "title(main = \"Visualizing Various Parameters\",outer = TRUE,line = -1)"
   ]
  },
  {
   "cell_type": "code",
   "execution_count": 6,
   "id": "98c44d2d-79df-4e9b-b3d1-36f29f85e838",
   "metadata": {},
   "outputs": [
    {
     "data": {
      "text/html": [
       "<table class=\"dataframe\">\n",
       "<caption>A data.frame: 6 × 4</caption>\n",
       "<thead>\n",
       "\t<tr><th></th><th scope=col>Sales</th><th scope=col>TV</th><th scope=col>Radio</th><th scope=col>Newspaper</th></tr>\n",
       "\t<tr><th></th><th scope=col>&lt;dbl&gt;</th><th scope=col>&lt;dbl&gt;</th><th scope=col>&lt;dbl&gt;</th><th scope=col>&lt;dbl&gt;</th></tr>\n",
       "</thead>\n",
       "<tbody>\n",
       "\t<tr><th scope=row>1</th><td>22.1</td><td>230.1</td><td>37.8</td><td>69.2</td></tr>\n",
       "\t<tr><th scope=row>2</th><td>10.4</td><td> 44.5</td><td>39.3</td><td>45.1</td></tr>\n",
       "\t<tr><th scope=row>3</th><td> 9.3</td><td> 17.2</td><td>45.9</td><td>69.3</td></tr>\n",
       "\t<tr><th scope=row>4</th><td>18.5</td><td>151.5</td><td>41.3</td><td>58.5</td></tr>\n",
       "\t<tr><th scope=row>5</th><td>12.9</td><td>180.8</td><td>10.8</td><td>58.4</td></tr>\n",
       "\t<tr><th scope=row>6</th><td> 7.2</td><td>  8.7</td><td>48.9</td><td>75.0</td></tr>\n",
       "</tbody>\n",
       "</table>\n"
      ],
      "text/latex": [
       "A data.frame: 6 × 4\n",
       "\\begin{tabular}{r|llll}\n",
       "  & Sales & TV & Radio & Newspaper\\\\\n",
       "  & <dbl> & <dbl> & <dbl> & <dbl>\\\\\n",
       "\\hline\n",
       "\t1 & 22.1 & 230.1 & 37.8 & 69.2\\\\\n",
       "\t2 & 10.4 &  44.5 & 39.3 & 45.1\\\\\n",
       "\t3 &  9.3 &  17.2 & 45.9 & 69.3\\\\\n",
       "\t4 & 18.5 & 151.5 & 41.3 & 58.5\\\\\n",
       "\t5 & 12.9 & 180.8 & 10.8 & 58.4\\\\\n",
       "\t6 &  7.2 &   8.7 & 48.9 & 75.0\\\\\n",
       "\\end{tabular}\n"
      ],
      "text/markdown": [
       "\n",
       "A data.frame: 6 × 4\n",
       "\n",
       "| <!--/--> | Sales &lt;dbl&gt; | TV &lt;dbl&gt; | Radio &lt;dbl&gt; | Newspaper &lt;dbl&gt; |\n",
       "|---|---|---|---|---|\n",
       "| 1 | 22.1 | 230.1 | 37.8 | 69.2 |\n",
       "| 2 | 10.4 |  44.5 | 39.3 | 45.1 |\n",
       "| 3 |  9.3 |  17.2 | 45.9 | 69.3 |\n",
       "| 4 | 18.5 | 151.5 | 41.3 | 58.5 |\n",
       "| 5 | 12.9 | 180.8 | 10.8 | 58.4 |\n",
       "| 6 |  7.2 |   8.7 | 48.9 | 75.0 |\n",
       "\n"
      ],
      "text/plain": [
       "  Sales TV    Radio Newspaper\n",
       "1 22.1  230.1 37.8  69.2     \n",
       "2 10.4   44.5 39.3  45.1     \n",
       "3  9.3   17.2 45.9  69.3     \n",
       "4 18.5  151.5 41.3  58.5     \n",
       "5 12.9  180.8 10.8  58.4     \n",
       "6  7.2    8.7 48.9  75.0     "
      ]
     },
     "metadata": {},
     "output_type": "display_data"
    },
    {
     "data": {
      "text/html": [
       "<table class=\"dataframe\">\n",
       "<caption>A matrix: 4 × 4 of type dbl</caption>\n",
       "<thead>\n",
       "\t<tr><th></th><th scope=col>Sales</th><th scope=col>TV</th><th scope=col>Radio</th><th scope=col>Newspaper</th></tr>\n",
       "</thead>\n",
       "<tbody>\n",
       "\t<tr><th scope=row>Sales</th><td>1.0000000</td><td>0.78222442</td><td>0.57622257</td><td>0.22829903</td></tr>\n",
       "\t<tr><th scope=row>TV</th><td>0.7822244</td><td>1.00000000</td><td>0.05480866</td><td>0.05664787</td></tr>\n",
       "\t<tr><th scope=row>Radio</th><td>0.5762226</td><td>0.05480866</td><td>1.00000000</td><td>0.35410375</td></tr>\n",
       "\t<tr><th scope=row>Newspaper</th><td>0.2282990</td><td>0.05664787</td><td>0.35410375</td><td>1.00000000</td></tr>\n",
       "</tbody>\n",
       "</table>\n"
      ],
      "text/latex": [
       "A matrix: 4 × 4 of type dbl\n",
       "\\begin{tabular}{r|llll}\n",
       "  & Sales & TV & Radio & Newspaper\\\\\n",
       "\\hline\n",
       "\tSales & 1.0000000 & 0.78222442 & 0.57622257 & 0.22829903\\\\\n",
       "\tTV & 0.7822244 & 1.00000000 & 0.05480866 & 0.05664787\\\\\n",
       "\tRadio & 0.5762226 & 0.05480866 & 1.00000000 & 0.35410375\\\\\n",
       "\tNewspaper & 0.2282990 & 0.05664787 & 0.35410375 & 1.00000000\\\\\n",
       "\\end{tabular}\n"
      ],
      "text/markdown": [
       "\n",
       "A matrix: 4 × 4 of type dbl\n",
       "\n",
       "| <!--/--> | Sales | TV | Radio | Newspaper |\n",
       "|---|---|---|---|---|\n",
       "| Sales | 1.0000000 | 0.78222442 | 0.57622257 | 0.22829903 |\n",
       "| TV | 0.7822244 | 1.00000000 | 0.05480866 | 0.05664787 |\n",
       "| Radio | 0.5762226 | 0.05480866 | 1.00000000 | 0.35410375 |\n",
       "| Newspaper | 0.2282990 | 0.05664787 | 0.35410375 | 1.00000000 |\n",
       "\n"
      ],
      "text/plain": [
       "          Sales     TV         Radio      Newspaper \n",
       "Sales     1.0000000 0.78222442 0.57622257 0.22829903\n",
       "TV        0.7822244 1.00000000 0.05480866 0.05664787\n",
       "Radio     0.5762226 0.05480866 1.00000000 0.35410375\n",
       "Newspaper 0.2282990 0.05664787 0.35410375 1.00000000"
      ]
     },
     "metadata": {},
     "output_type": "display_data"
    },
    {
     "data": {
      "image/png": "[encoded data removed]",
      "text/plain": [
       "Plot with title \"Checking for Outliers \""
      ]
     },
     "metadata": {
      "image/png": {
       "height": 600,
       "width": 1080
      }
     },
     "output_type": "display_data"
    }
   ],
   "source": [
    "## DATA WRANGLING \n",
    "#creating feature matrix\n",
    "Sales_data <- cbind.data.frame(Sales$Sales,Sales$TV,\n",
    "                               Sales$Radio,Sales$Newspaper)\n",
    "colnames(Sales_data) <- c(\"Sales\",\"TV\",\"Radio\",\"Newspaper\")\n",
    "head(Sales_data)\n",
    "\n",
    "# finding correlation\n",
    "cor(Sales_data)\n",
    "\n",
    "#checking for outliers\n",
    "par(mfrow = c(2,2))\n",
    "library(repr)\n",
    "options(repr.plot.width = 18, repr.plot.height = 10)\n",
    "\n",
    "boxplot(Sales$Sales,main = \"Outliers in Sales\",\n",
    "        ylab = \"Sales\",col = \"red\",pch = 10) \n",
    "\n",
    "boxplot(Sales$TV,main = \"Outliers in TV\",\n",
    "        ylab = \"TV\",col = \"blue\",pch = 10) \n",
    "\n",
    "boxplot(Sales$Radio,main = \"Outliers in Radio\",\n",
    "        ylab = \"Radio\",col = \"green\",pch = 10) \n",
    "\n",
    "boxplot(Sales$Newspaper,main = \"Outliers in Newspaper\",\n",
    "        ylab = \"Newspaper\",col = \"brown\",pch = 10) \n",
    "\n",
    "title(main = \"Checking for Outliers \",outer = TRUE,line = -1)\n",
    "## THERE ARE TWO OUTLIERS IN THE NEWSPAPER COLUMN ## \n",
    "## HENCE OUTLIERS WONT INFLUENCE THE PREDICTION MUCH ##\n",
    "\n",
    "\n"
   ]
  },
  {
   "cell_type": "code",
   "execution_count": 7,
   "id": "8990c8c8-29ae-4ec3-9bc3-51e880d2c3c0",
   "metadata": {},
   "outputs": [
    {
     "data": {
      "text/html": [
       "<table class=\"dataframe\">\n",
       "<caption>A data.frame: 6 × 4</caption>\n",
       "<thead>\n",
       "\t<tr><th></th><th scope=col>C_Sales</th><th scope=col>C_TV</th><th scope=col>C_Radio</th><th scope=col>C_Newspaper</th></tr>\n",
       "\t<tr><th></th><th scope=col>&lt;dbl&gt;</th><th scope=col>&lt;dbl&gt;</th><th scope=col>&lt;dbl&gt;</th><th scope=col>&lt;dbl&gt;</th></tr>\n",
       "</thead>\n",
       "<tbody>\n",
       "\t<tr><th scope=row>1</th><td>22.1</td><td>230.1</td><td>37.8</td><td>69.2</td></tr>\n",
       "\t<tr><th scope=row>2</th><td>10.4</td><td> 44.5</td><td>39.3</td><td>45.1</td></tr>\n",
       "\t<tr><th scope=row>3</th><td> 9.3</td><td> 17.2</td><td>45.9</td><td>69.3</td></tr>\n",
       "\t<tr><th scope=row>4</th><td>18.5</td><td>151.5</td><td>41.3</td><td>58.5</td></tr>\n",
       "\t<tr><th scope=row>5</th><td>12.9</td><td>180.8</td><td>10.8</td><td>58.4</td></tr>\n",
       "\t<tr><th scope=row>6</th><td> 7.2</td><td>  8.7</td><td>48.9</td><td>75.0</td></tr>\n",
       "</tbody>\n",
       "</table>\n"
      ],
      "text/latex": [
       "A data.frame: 6 × 4\n",
       "\\begin{tabular}{r|llll}\n",
       "  & C\\_Sales & C\\_TV & C\\_Radio & C\\_Newspaper\\\\\n",
       "  & <dbl> & <dbl> & <dbl> & <dbl>\\\\\n",
       "\\hline\n",
       "\t1 & 22.1 & 230.1 & 37.8 & 69.2\\\\\n",
       "\t2 & 10.4 &  44.5 & 39.3 & 45.1\\\\\n",
       "\t3 &  9.3 &  17.2 & 45.9 & 69.3\\\\\n",
       "\t4 & 18.5 & 151.5 & 41.3 & 58.5\\\\\n",
       "\t5 & 12.9 & 180.8 & 10.8 & 58.4\\\\\n",
       "\t6 &  7.2 &   8.7 & 48.9 & 75.0\\\\\n",
       "\\end{tabular}\n"
      ],
      "text/markdown": [
       "\n",
       "A data.frame: 6 × 4\n",
       "\n",
       "| <!--/--> | C_Sales &lt;dbl&gt; | C_TV &lt;dbl&gt; | C_Radio &lt;dbl&gt; | C_Newspaper &lt;dbl&gt; |\n",
       "|---|---|---|---|---|\n",
       "| 1 | 22.1 | 230.1 | 37.8 | 69.2 |\n",
       "| 2 | 10.4 |  44.5 | 39.3 | 45.1 |\n",
       "| 3 |  9.3 |  17.2 | 45.9 | 69.3 |\n",
       "| 4 | 18.5 | 151.5 | 41.3 | 58.5 |\n",
       "| 5 | 12.9 | 180.8 | 10.8 | 58.4 |\n",
       "| 6 |  7.2 |   8.7 | 48.9 | 75.0 |\n",
       "\n"
      ],
      "text/plain": [
       "  C_Sales C_TV  C_Radio C_Newspaper\n",
       "1 22.1    230.1 37.8    69.2       \n",
       "2 10.4     44.5 39.3    45.1       \n",
       "3  9.3     17.2 45.9    69.3       \n",
       "4 18.5    151.5 41.3    58.5       \n",
       "5 12.9    180.8 10.8    58.4       \n",
       "6  7.2      8.7 48.9    75.0       "
      ]
     },
     "metadata": {},
     "output_type": "display_data"
    },
    {
     "data": {
      "text/plain": [
       "    C_Sales           C_TV          C_Radio        C_Newspaper   \n",
       " Min.   : 1.60   Min.   :  0.7   Min.   : 0.000   Min.   : 0.30  \n",
       " 1st Qu.:10.32   1st Qu.: 74.8   1st Qu.: 9.925   1st Qu.:12.65  \n",
       " Median :12.90   Median :149.8   Median :22.400   Median :25.60  \n",
       " Mean   :13.98   Mean   :146.7   Mean   :23.131   Mean   :29.78  \n",
       " 3rd Qu.:17.38   3rd Qu.:218.5   3rd Qu.:36.325   3rd Qu.:44.05  \n",
       " Max.   :27.00   Max.   :293.6   Max.   :49.600   Max.   :89.40  "
      ]
     },
     "metadata": {},
     "output_type": "display_data"
    },
    {
     "data": {
      "text/html": [
       "<table class=\"dataframe\">\n",
       "<caption>A matrix: 4 × 4 of type dbl</caption>\n",
       "<thead>\n",
       "\t<tr><th></th><th scope=col>C_Sales</th><th scope=col>C_TV</th><th scope=col>C_Radio</th><th scope=col>C_Newspaper</th></tr>\n",
       "</thead>\n",
       "<tbody>\n",
       "\t<tr><th scope=row>C_Sales</th><td>1.0000000</td><td>0.77912086</td><td>0.57674768</td><td>0.21955468</td></tr>\n",
       "\t<tr><th scope=row>C_TV</th><td>0.7791209</td><td>1.00000000</td><td>0.05197816</td><td>0.04977146</td></tr>\n",
       "\t<tr><th scope=row>C_Radio</th><td>0.5767477</td><td>0.05197816</td><td>1.00000000</td><td>0.34636425</td></tr>\n",
       "\t<tr><th scope=row>C_Newspaper</th><td>0.2195547</td><td>0.04977146</td><td>0.34636425</td><td>1.00000000</td></tr>\n",
       "</tbody>\n",
       "</table>\n"
      ],
      "text/latex": [
       "A matrix: 4 × 4 of type dbl\n",
       "\\begin{tabular}{r|llll}\n",
       "  & C\\_Sales & C\\_TV & C\\_Radio & C\\_Newspaper\\\\\n",
       "\\hline\n",
       "\tC\\_Sales & 1.0000000 & 0.77912086 & 0.57674768 & 0.21955468\\\\\n",
       "\tC\\_TV & 0.7791209 & 1.00000000 & 0.05197816 & 0.04977146\\\\\n",
       "\tC\\_Radio & 0.5767477 & 0.05197816 & 1.00000000 & 0.34636425\\\\\n",
       "\tC\\_Newspaper & 0.2195547 & 0.04977146 & 0.34636425 & 1.00000000\\\\\n",
       "\\end{tabular}\n"
      ],
      "text/markdown": [
       "\n",
       "A matrix: 4 × 4 of type dbl\n",
       "\n",
       "| <!--/--> | C_Sales | C_TV | C_Radio | C_Newspaper |\n",
       "|---|---|---|---|---|\n",
       "| C_Sales | 1.0000000 | 0.77912086 | 0.57674768 | 0.21955468 |\n",
       "| C_TV | 0.7791209 | 1.00000000 | 0.05197816 | 0.04977146 |\n",
       "| C_Radio | 0.5767477 | 0.05197816 | 1.00000000 | 0.34636425 |\n",
       "| C_Newspaper | 0.2195547 | 0.04977146 | 0.34636425 | 1.00000000 |\n",
       "\n"
      ],
      "text/plain": [
       "            C_Sales   C_TV       C_Radio    C_Newspaper\n",
       "C_Sales     1.0000000 0.77912086 0.57674768 0.21955468 \n",
       "C_TV        0.7791209 1.00000000 0.05197816 0.04977146 \n",
       "C_Radio     0.5767477 0.05197816 1.00000000 0.34636425 \n",
       "C_Newspaper 0.2195547 0.04977146 0.34636425 1.00000000 "
      ]
     },
     "metadata": {},
     "output_type": "display_data"
    }
   ],
   "source": [
    "## Still for verification we will remove the outliers and check it .\n",
    "# removing outliers\n",
    "remove_outliers<- function(df) {\n",
    "  for (col in names(df)) {\n",
    "    if (is.numeric(df[[col]])) {\n",
    "      Q1 <- quantile(df[[col]], 0.25)\n",
    "      Q3 <- quantile(df[[col]], 0.75)\n",
    "      IQR <- Q3 - Q1\n",
    "      lower_bound <- Q1 - 1.5 * IQR\n",
    "      upper_bound <- Q3 + 1.5 * IQR\n",
    "      df <- df[df[[col]] >= lower_bound & df[[col]] <= upper_bound, ]\n",
    "    }\n",
    "  }\n",
    "  return(df)\n",
    "}\n",
    "clean_sales_data <- remove_outliers(Sales_data)\n",
    "colnames(clean_sales_data) <- c(\"C_Sales\",\"C_TV\",\"C_Radio\",\"C_Newspaper\")\n",
    "# outliers removed \n",
    "head(clean_sales_data)\n",
    "summary(clean_sales_data)\n",
    "# checking correlation\n",
    "cor(clean_sales_data)\n"
   ]
  },
  {
   "cell_type": "code",
   "execution_count": 8,
   "id": "0681da05-73c4-476d-ae2f-68bdbf808b9c",
   "metadata": {},
   "outputs": [],
   "source": [
    "## PARTIONING TRAIN & TEST DATASETS\n",
    "#for model 1 complete features\n",
    "index1 <- sample(1:nrow(Sales_data),as.integer(0.8*nrow(Sales_data)))\n",
    "Train1 <- Sales_data[index1,]\n",
    "Test1 <- Sales_data[-index1,]\n",
    "\n",
    "# for model 2excluding the outliers\n",
    "index2 <- sample(1:nrow(clean_sales_data),\n",
    "                 as.integer(0.8*nrow(clean_sales_data)))\n",
    "Train2 <- clean_sales_data[index2,]\n",
    "Test2 <- clean_sales_data[-index2,]\n"
   ]
  },
  {
   "cell_type": "code",
   "execution_count": 9,
   "id": "aabcbfcc-ca39-488b-8398-a73ee60d0309",
   "metadata": {},
   "outputs": [],
   "source": [
    "## TRAINING THE MODELS\n",
    "# model 1\n",
    "model1 <- lm(Sales ~ . ,data = Sales_data)\n",
    "\n",
    "#model 2\n",
    "model2 <- lm(C_Sales ~ . ,data = clean_sales_data)\n",
    "\n",
    "#model 3\n",
    "model3 <- randomForest(Sales ~ TV + Radio + Newspaper, data = Train1)\n"
   ]
  },
  {
   "cell_type": "code",
   "execution_count": 10,
   "id": "0dcf8f02-fc76-49b3-9045-daca31cfa166",
   "metadata": {},
   "outputs": [],
   "source": [
    "## PREDICTING & TESTING THE MODELS\n",
    "# model 1\n",
    "pred1 <- predict(model1,newdata = Test1)\n",
    "\n",
    "# model 2\n",
    "pred2 <- predict(model2,newdata = Test2)\n",
    "\n",
    "#model 3\n",
    "pred3 <- predict(model3, newdata = Test1)\n"
   ]
  },
  {
   "cell_type": "code",
   "execution_count": 11,
   "id": "e327c124-c5df-40f1-bcf0-e155cd95504b",
   "metadata": {},
   "outputs": [
    {
     "data": {
      "image/png": "[encoded data removed]",
      "text/plain": [
       "plot without title"
      ]
     },
     "metadata": {
      "image/png": {
       "height": 600,
       "width": 1080
      }
     },
     "output_type": "display_data"
    }
   ],
   "source": [
    "#visualizing the model\n",
    "\n",
    "plot1 <- ggplot()+\n",
    "  geom_point(aes(x = Test1$Sales,y = pred1),col = \"blue\")+\n",
    "  geom_abline(slope = 1,intercept = 0,col = \"red\")+\n",
    "  labs(title = \"Actual vs Predict (model 1)\",x = \"Actual\",\n",
    "       y = \" Predicted\")\n",
    "\n",
    "plot2<-ggplot() \n",
    "\n",
    "plot3 <- ggplot()+\n",
    "  geom_point(aes(x = Test2$C_Sales,y = pred2),col = \"blue\")+\n",
    "  geom_abline(slope = 1,intercept = 0,col = \"red\")+\n",
    "  labs(title = \"Actual vs Predict (model 2)\",x = \"Actual\",\n",
    "       y = \" Predicted\")\n",
    "\n",
    "plot4 <- ggplot()+\n",
    "  geom_point(aes(x = Test1$Sales,y = pred3),col = \"blue\")+\n",
    "  geom_abline(slope = 1,intercept = 0,col = \"red\")+\n",
    "  labs(title = \"Actual vs Predict (model 3)\",x = \"Actual\",\n",
    "       y = \" Predicted\")\n",
    "grid.arrange(plot1,plot2,plot3, plot4,nrow = 2, ncol = 2)\n",
    "grid.text(\"Comparison of Models\\nActual Vs Predicted Values\", \n",
    "          x = 0.8, y = 0.85, gp = gpar(fontsize = 30, fontface = \"bold\"))\n"
   ]
  },
  {
   "cell_type": "code",
   "execution_count": 12,
   "id": "24563801-1206-4131-b8da-32716c6a1719",
   "metadata": {},
   "outputs": [],
   "source": [
    "# cost or error function\n",
    "\n",
    "#bias\n",
    "B1 <- bias(Test1$Sales,pred1)\n",
    "B2 <- bias(Test2$C_Sales,pred2)\n",
    "B3 <- bias(Test1$Sales,pred3)\n",
    "\n",
    "# rmse\n",
    "rmse1 <- rmse(Test1$Sales,pred1)\n",
    "rmse2 <- rmse(Test2$C_Sales,pred2)\n",
    "rmse3 <- rmse(Test1$Sales,pred3)\n",
    "\n",
    "#mse\n",
    "mse1 <- mse(Test1$Sales,pred1)\n",
    "mse2 <- mse(Test2$C_Sales,pred2)\n",
    "mse3 <- mse(Test1$Sales,pred3)\n",
    "\n",
    "#mae\n",
    "mae1 <- mae(Test1$Sales,pred1)\n",
    "mae2 <- mae(Test2$C_Sales,pred2)\n",
    "mae3 <- mae(Test1$Sales,pred3)\n",
    "\n",
    "# correlation\n",
    "cor1 <- cor(Test1$Sales,pred1)\n",
    "cor2 <- cor(Test2$C_Sales,pred2)\n",
    "cor3 <- cor(Test1$Sales,pred3)\n",
    "\n",
    "#R - square\n",
    "r1 <- R2(Test1$Sales,pred1)\n",
    "r2 <- R2(Test2$C_Sales,pred2)\n",
    "r3 <- R2(Test1$Sales,pred3)\n"
   ]
  },
  {
   "cell_type": "code",
   "execution_count": 13,
   "id": "83c0fc68-2522-4339-b980-39b7cc76abfe",
   "metadata": {},
   "outputs": [
    {
     "name": "stdout",
     "output_type": "stream",
     "text": [
      "   Model       Bias     RMSE      MSE       MAE Correlation R_Squared\n",
      "1 Model1  0.1526503 1.599915 2.559728 1.2638724   0.9520185 0.9063393\n",
      "2 Model2 -0.0645042 1.676691 2.811294 1.2917821   0.9553691 0.9127301\n",
      "3 Model3  0.1032581 1.251933 1.567335 0.9755369   0.9843755 0.9689952\n"
     ]
    }
   ],
   "source": [
    "## Comparing Models Based on Various Parameters.\n",
    "# creating parameter matrix\n",
    "comparison_metrics <- data.frame(\n",
    "  Model = c(\"Model1\",\"Model2\", \"Model3\"),\n",
    "  Bias = c(B1, B2, B3),\n",
    "  RMSE = c(rmse1, rmse2, rmse3),\n",
    "  MSE = c(mse1, mse2, mse3),\n",
    "  MAE = c(mae1, mae2, mae3),\n",
    "  Correlation = c(cor1, cor2,cor3),\n",
    "  R_Squared = c(r1,r2, r3)\n",
    ")\n",
    "print(comparison_metrics)\n",
    "\n",
    "### CONCLUSION ###\n",
    "### THE MODEL 3 IS THE BEST FIT AMONG ALL IF THE OVERALL EFFECT IS TAKEN IN ACCOUNT  ###\n",
    "### IF CLEANED AND STRUCTURED DATA WHICH IS IMMUNE TO OUTLIERS IS NEEDED MODEL 2 IS BETTER OPTION ###"
   ]
  },
  {
   "cell_type": "code",
   "execution_count": null,
   "id": "d59ce8ca-cb47-4afe-a692-6f558a3c99a9",
   "metadata": {},
   "outputs": [],
   "source": []
  }
 ],
 "metadata": {
  "kernelspec": {
   "display_name": "R",
   "language": "R",
   "name": "ir"
  },
  "language_info": {
   "codemirror_mode": "r",
   "file_extension": ".r",
   "mimetype": "text/x-r-source",
   "name": "R",
   "pygments_lexer": "r",
   "version": "4.4.1"
  }
 },
 "nbformat": 4,
 "nbformat_minor": 5
}
